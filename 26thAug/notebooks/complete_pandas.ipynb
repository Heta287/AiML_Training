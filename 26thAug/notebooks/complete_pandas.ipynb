{
  "nbformat": 4,
  "nbformat_minor": 0,
  "metadata": {
    "colab": {
      "provenance": []
    },
    "kernelspec": {
      "name": "python3",
      "display_name": "Python 3"
    },
    "language_info": {
      "name": "python"
    }
  },
  "cells": [
    {
      "cell_type": "markdown",
      "source": [
        "### AI/ML Session 1 - 26th August 2024 (further practice notebook)\n",
        "### By - Heta Rahul Patel\n",
        "\n",
        "---"
      ],
      "metadata": {
        "id": "FFpzGbA9-tvC"
      }
    },
    {
      "cell_type": "markdown",
      "source": [
        "## Pandas Comprehensive Function Examples"
      ],
      "metadata": {
        "id": "txpmleLD_Scx"
      }
    },
    {
      "cell_type": "markdown",
      "source": [
        "### This notebook contains examples of:\n",
        "\n",
        "- Data Loading: Reading from CSV and creating DataFrames.\n",
        "- Data Selection: Using .iloc[], .loc[], and selecting columns.\n",
        "- Data Cleaning: Handling missing data, replacing values, and dropping columns.\n",
        "- Data Modification: Adding columns, renaming, and deleting columns.\n",
        "- Grouping and Aggregation: Using .groupby() and .agg().\n",
        "- Merging and Joining: Combining DataFrames.\n",
        "- Sorting: Sorting data by column or index.\n",
        "- Filtering: Filtering rows based on conditions.\n",
        "- Statistics: Summary statistics and value counts.\n",
        "- Pivot Tables: Creating pivot tables for grouped data.\n",
        "- Reshaping: Melting and pivoting data.\n",
        "- Handling Duplicates: Removing duplicates from a DataFrame.\n",
        "- Exporting Data: Exporting DataFrames to CSV."
      ],
      "metadata": {
        "id": "z0PNGc9n_bxY"
      }
    },
    {
      "cell_type": "markdown",
      "source": [
        "---"
      ],
      "metadata": {
        "id": "EfSdoYx9_05u"
      }
    },
    {
      "cell_type": "code",
      "source": [
        "#import\n",
        "import pandas as pd\n",
        "import numpy as np"
      ],
      "metadata": {
        "id": "SavfnOgw_U9a"
      },
      "execution_count": 1,
      "outputs": []
    },
    {
      "cell_type": "code",
      "source": [
        "# 1. Data Loading\n",
        "# Read a CSV file\n",
        "# df = pd.read_csv('your_file.csv')"
      ],
      "metadata": {
        "id": "4zdxdTQiAA6d"
      },
      "execution_count": 2,
      "outputs": []
    },
    {
      "cell_type": "code",
      "source": [
        "# Creating DataFrames directly (example)\n",
        "data = {'Name': ['Alice', 'Bob', 'Charlie', 'David'],\n",
        "        'Age': [25, 30, 35, 40],\n",
        "        'Salary': [50000, 60000, 70000, 80000]}\n",
        "df = pd.DataFrame(data)\n",
        "\n",
        "print(\"DataFrame:\\n\", df)"
      ],
      "metadata": {
        "colab": {
          "base_uri": "https://localhost:8080/"
        },
        "id": "_IoqPSYgAEKk",
        "outputId": "6f7b88c5-20c3-46f3-af61-b550b40967cc"
      },
      "execution_count": 3,
      "outputs": [
        {
          "output_type": "stream",
          "name": "stdout",
          "text": [
            "DataFrame:\n",
            "       Name  Age  Salary\n",
            "0    Alice   25   50000\n",
            "1      Bob   30   60000\n",
            "2  Charlie   35   70000\n",
            "3    David   40   80000\n"
          ]
        }
      ]
    },
    {
      "cell_type": "code",
      "source": [
        "# 2. Data Selection\n",
        "# Select a single column\n",
        "print(df['Name'])"
      ],
      "metadata": {
        "colab": {
          "base_uri": "https://localhost:8080/"
        },
        "id": "e2dGlEdkAGhb",
        "outputId": "3d16a245-d80e-4f31-8418-192f9a78009c"
      },
      "execution_count": 4,
      "outputs": [
        {
          "output_type": "stream",
          "name": "stdout",
          "text": [
            "0      Alice\n",
            "1        Bob\n",
            "2    Charlie\n",
            "3      David\n",
            "Name: Name, dtype: object\n"
          ]
        }
      ]
    },
    {
      "cell_type": "code",
      "source": [
        "# Select multiple columns\n",
        "print(df[['Name', 'Salary']])"
      ],
      "metadata": {
        "colab": {
          "base_uri": "https://localhost:8080/"
        },
        "id": "c2zARjrmAJBa",
        "outputId": "1ab3467c-79c3-4c99-a1c0-2a345679224e"
      },
      "execution_count": 5,
      "outputs": [
        {
          "output_type": "stream",
          "name": "stdout",
          "text": [
            "      Name  Salary\n",
            "0    Alice   50000\n",
            "1      Bob   60000\n",
            "2  Charlie   70000\n",
            "3    David   80000\n"
          ]
        }
      ]
    },
    {
      "cell_type": "code",
      "source": [
        "# Select rows by index location (using iloc)\n",
        "print(\"\\nSelect first two rows (iloc):\\n\", df.iloc[:2])"
      ],
      "metadata": {
        "colab": {
          "base_uri": "https://localhost:8080/"
        },
        "id": "zewvVr3iAUHO",
        "outputId": "fa06a497-050b-4dd4-835d-c3bbfa441499"
      },
      "execution_count": 6,
      "outputs": [
        {
          "output_type": "stream",
          "name": "stdout",
          "text": [
            "\n",
            "Select first two rows (iloc):\n",
            "     Name  Age  Salary\n",
            "0  Alice   25   50000\n",
            "1    Bob   30   60000\n"
          ]
        }
      ]
    },
    {
      "cell_type": "code",
      "source": [
        "# Select rows by index label (using loc)\n",
        "print(\"\\nSelect rows where Age > 30 (loc):\\n\", df.loc[df['Age'] > 30])"
      ],
      "metadata": {
        "colab": {
          "base_uri": "https://localhost:8080/"
        },
        "id": "qsGQHuD2AY-n",
        "outputId": "05b5bb8d-0f9c-4f80-8600-d0fb3dbb17e4"
      },
      "execution_count": 7,
      "outputs": [
        {
          "output_type": "stream",
          "name": "stdout",
          "text": [
            "\n",
            "Select rows where Age > 30 (loc):\n",
            "       Name  Age  Salary\n",
            "2  Charlie   35   70000\n",
            "3    David   40   80000\n"
          ]
        }
      ]
    },
    {
      "cell_type": "code",
      "source": [
        "# 3. Data Cleaning\n",
        "# Handling missing data\n",
        "df_with_nan = df.copy()\n",
        "df_with_nan.loc[1, 'Salary'] = np.nan\n",
        "print(\"\\nDataFrame with NaN:\\n\", df_with_nan)"
      ],
      "metadata": {
        "colab": {
          "base_uri": "https://localhost:8080/"
        },
        "id": "csPIbwuFAb2k",
        "outputId": "f2eff1c9-dbcf-4ee6-c0b3-0389386bf8d8"
      },
      "execution_count": 8,
      "outputs": [
        {
          "output_type": "stream",
          "name": "stdout",
          "text": [
            "\n",
            "DataFrame with NaN:\n",
            "       Name  Age   Salary\n",
            "0    Alice   25  50000.0\n",
            "1      Bob   30      NaN\n",
            "2  Charlie   35  70000.0\n",
            "3    David   40  80000.0\n"
          ]
        }
      ]
    },
    {
      "cell_type": "code",
      "source": [
        "# Drop rows with missing values\n",
        "print(\"\\nDrop rows with NaN:\\n\", df_with_nan.dropna())"
      ],
      "metadata": {
        "colab": {
          "base_uri": "https://localhost:8080/"
        },
        "id": "A6_dd0zFAel_",
        "outputId": "079c891b-3292-4539-c5e4-e0e8ae88601a"
      },
      "execution_count": 9,
      "outputs": [
        {
          "output_type": "stream",
          "name": "stdout",
          "text": [
            "\n",
            "Drop rows with NaN:\n",
            "       Name  Age   Salary\n",
            "0    Alice   25  50000.0\n",
            "2  Charlie   35  70000.0\n",
            "3    David   40  80000.0\n"
          ]
        }
      ]
    },
    {
      "cell_type": "code",
      "source": [
        "# Fill missing values\n",
        "print(\"\\nFill NaN with mean salary:\\n\", df_with_nan.fillna(df_with_nan['Salary'].mean()))"
      ],
      "metadata": {
        "colab": {
          "base_uri": "https://localhost:8080/"
        },
        "id": "vsAQBB3oAhak",
        "outputId": "5e7cfb7b-d33c-4b19-896b-57688ea720f2"
      },
      "execution_count": 10,
      "outputs": [
        {
          "output_type": "stream",
          "name": "stdout",
          "text": [
            "\n",
            "Fill NaN with mean salary:\n",
            "       Name  Age        Salary\n",
            "0    Alice   25  50000.000000\n",
            "1      Bob   30  66666.666667\n",
            "2  Charlie   35  70000.000000\n",
            "3    David   40  80000.000000\n"
          ]
        }
      ]
    },
    {
      "cell_type": "code",
      "source": [
        "# Replace specific values\n",
        "print(\"\\nReplace 'Alice' with 'Alicia':\\n\", df.replace({'Alice': 'Alicia'}))"
      ],
      "metadata": {
        "colab": {
          "base_uri": "https://localhost:8080/"
        },
        "id": "kOp98uEEAkZW",
        "outputId": "9fe55056-cc57-41ff-d359-34cb1f0a2864"
      },
      "execution_count": 11,
      "outputs": [
        {
          "output_type": "stream",
          "name": "stdout",
          "text": [
            "\n",
            "Replace 'Alice' with 'Alicia':\n",
            "       Name  Age  Salary\n",
            "0   Alicia   25   50000\n",
            "1      Bob   30   60000\n",
            "2  Charlie   35   70000\n",
            "3    David   40   80000\n"
          ]
        }
      ]
    },
    {
      "cell_type": "code",
      "source": [
        "# 4. Data Modification\n",
        "# Adding new columns\n",
        "df['Bonus'] = df['Salary'] * 0.1\n",
        "print(\"\\nDataFrame with Bonus column:\\n\", df)"
      ],
      "metadata": {
        "colab": {
          "base_uri": "https://localhost:8080/"
        },
        "id": "GLCHaoo2AoPU",
        "outputId": "18547f00-5c00-47c7-ef5f-5a1ccb10a768"
      },
      "execution_count": 12,
      "outputs": [
        {
          "output_type": "stream",
          "name": "stdout",
          "text": [
            "\n",
            "DataFrame with Bonus column:\n",
            "       Name  Age  Salary   Bonus\n",
            "0    Alice   25   50000  5000.0\n",
            "1      Bob   30   60000  6000.0\n",
            "2  Charlie   35   70000  7000.0\n",
            "3    David   40   80000  8000.0\n"
          ]
        }
      ]
    },
    {
      "cell_type": "code",
      "source": [
        "# Dropping columns\n",
        "df_dropped = df.drop(columns=['Bonus'])\n",
        "print(\"\\nDataFrame after dropping 'Bonus' column:\\n\", df_dropped)"
      ],
      "metadata": {
        "colab": {
          "base_uri": "https://localhost:8080/"
        },
        "id": "UCo5NPnIAq06",
        "outputId": "fad6cf2a-58fc-4520-93cb-53261788d476"
      },
      "execution_count": 13,
      "outputs": [
        {
          "output_type": "stream",
          "name": "stdout",
          "text": [
            "\n",
            "DataFrame after dropping 'Bonus' column:\n",
            "       Name  Age  Salary\n",
            "0    Alice   25   50000\n",
            "1      Bob   30   60000\n",
            "2  Charlie   35   70000\n",
            "3    David   40   80000\n"
          ]
        }
      ]
    },
    {
      "cell_type": "code",
      "source": [
        "# Renaming columns\n",
        "df_renamed = df.rename(columns={'Name': 'Employee', 'Salary': 'Annual Salary'})\n",
        "print(\"\\nDataFrame with renamed columns:\\n\", df_renamed)"
      ],
      "metadata": {
        "colab": {
          "base_uri": "https://localhost:8080/"
        },
        "id": "z8W2967XAszA",
        "outputId": "c53d727c-3c8b-4184-8deb-281efe4ddfc6"
      },
      "execution_count": 14,
      "outputs": [
        {
          "output_type": "stream",
          "name": "stdout",
          "text": [
            "\n",
            "DataFrame with renamed columns:\n",
            "   Employee  Age  Annual Salary   Bonus\n",
            "0    Alice   25          50000  5000.0\n",
            "1      Bob   30          60000  6000.0\n",
            "2  Charlie   35          70000  7000.0\n",
            "3    David   40          80000  8000.0\n"
          ]
        }
      ]
    },
    {
      "cell_type": "code",
      "source": [
        "# 5. Grouping and Aggregation\n",
        "# Group by 'Age' and calculate mean salary\n",
        "grouped = df.groupby('Age').agg({'Salary': 'mean'})\n",
        "print(\"\\nGrouped by Age with mean Salary:\\n\", grouped)"
      ],
      "metadata": {
        "colab": {
          "base_uri": "https://localhost:8080/"
        },
        "id": "3DuStdr-Au6S",
        "outputId": "3b0a85d6-e281-4ffa-ca18-de92689cce6f"
      },
      "execution_count": 15,
      "outputs": [
        {
          "output_type": "stream",
          "name": "stdout",
          "text": [
            "\n",
            "Grouped by Age with mean Salary:\n",
            "       Salary\n",
            "Age         \n",
            "25   50000.0\n",
            "30   60000.0\n",
            "35   70000.0\n",
            "40   80000.0\n"
          ]
        }
      ]
    },
    {
      "cell_type": "code",
      "source": [
        "# Apply multiple aggregate functions\n",
        "agg_multi = df.groupby('Age').agg({'Salary': ['mean', 'sum', 'max']})\n",
        "print(\"\\nGrouped by Age with multiple aggregations:\\n\", agg_multi)"
      ],
      "metadata": {
        "colab": {
          "base_uri": "https://localhost:8080/"
        },
        "id": "nB8QwYbpAw0V",
        "outputId": "95cf7881-5cc5-41f9-ccca-031dec9a5ef5"
      },
      "execution_count": 16,
      "outputs": [
        {
          "output_type": "stream",
          "name": "stdout",
          "text": [
            "\n",
            "Grouped by Age with multiple aggregations:\n",
            "       Salary              \n",
            "        mean    sum    max\n",
            "Age                       \n",
            "25   50000.0  50000  50000\n",
            "30   60000.0  60000  60000\n",
            "35   70000.0  70000  70000\n",
            "40   80000.0  80000  80000\n"
          ]
        }
      ]
    },
    {
      "cell_type": "code",
      "source": [
        "# 6. Merging and Joining DataFrames\n",
        "# Creating another DataFrame for merge example\n",
        "data2 = {'Employee': ['Alice', 'Bob', 'Eve', 'Frank'],\n",
        "         'Department': ['HR', 'IT', 'Marketing', 'Sales']}\n",
        "df2 = pd.DataFrame(data2)\n",
        "print(df2)"
      ],
      "metadata": {
        "colab": {
          "base_uri": "https://localhost:8080/"
        },
        "id": "ZfO5c251AzIv",
        "outputId": "ae13b964-5549-4abf-d9ab-67feae718abc"
      },
      "execution_count": 17,
      "outputs": [
        {
          "output_type": "stream",
          "name": "stdout",
          "text": [
            "  Employee Department\n",
            "0    Alice         HR\n",
            "1      Bob         IT\n",
            "2      Eve  Marketing\n",
            "3    Frank      Sales\n"
          ]
        }
      ]
    },
    {
      "cell_type": "code",
      "source": [
        "# Merge the two DataFrames on 'Employee'\n",
        "merged_df = pd.merge(df, df2, left_on='Name', right_on='Employee', how='left')\n",
        "print(\"\\nMerged DataFrame (left join on 'Employee'):\\n\", merged_df)"
      ],
      "metadata": {
        "colab": {
          "base_uri": "https://localhost:8080/"
        },
        "id": "8lAnDPh2A1Un",
        "outputId": "ea593e2d-5db0-47e4-c6f0-3ce68849723e"
      },
      "execution_count": 18,
      "outputs": [
        {
          "output_type": "stream",
          "name": "stdout",
          "text": [
            "\n",
            "Merged DataFrame (left join on 'Employee'):\n",
            "       Name  Age  Salary   Bonus Employee Department\n",
            "0    Alice   25   50000  5000.0    Alice         HR\n",
            "1      Bob   30   60000  6000.0      Bob         IT\n",
            "2  Charlie   35   70000  7000.0      NaN        NaN\n",
            "3    David   40   80000  8000.0      NaN        NaN\n"
          ]
        }
      ]
    },
    {
      "cell_type": "code",
      "source": [
        "# 7. Sorting\n",
        "# Sorting by column values\n",
        "sorted_df = df.sort_values(by='Salary', ascending=False)\n",
        "print(\"\\nDataFrame sorted by 'Salary' (descending):\\n\", sorted_df)"
      ],
      "metadata": {
        "colab": {
          "base_uri": "https://localhost:8080/"
        },
        "id": "FqS8iYEfA59m",
        "outputId": "d35adba1-7f48-4ba2-d089-b9ac67d91d51"
      },
      "execution_count": 19,
      "outputs": [
        {
          "output_type": "stream",
          "name": "stdout",
          "text": [
            "\n",
            "DataFrame sorted by 'Salary' (descending):\n",
            "       Name  Age  Salary   Bonus\n",
            "3    David   40   80000  8000.0\n",
            "2  Charlie   35   70000  7000.0\n",
            "1      Bob   30   60000  6000.0\n",
            "0    Alice   25   50000  5000.0\n"
          ]
        }
      ]
    },
    {
      "cell_type": "code",
      "source": [
        "# Sorting by index\n",
        "sorted_index_df = df.sort_index(ascending=False)\n",
        "print(\"\\nDataFrame sorted by index (descending):\\n\", sorted_index_df)"
      ],
      "metadata": {
        "colab": {
          "base_uri": "https://localhost:8080/"
        },
        "id": "1UyJqUSUA8wa",
        "outputId": "f578ef96-7e4d-4a73-84d1-ed6502344172"
      },
      "execution_count": 20,
      "outputs": [
        {
          "output_type": "stream",
          "name": "stdout",
          "text": [
            "\n",
            "DataFrame sorted by index (descending):\n",
            "       Name  Age  Salary   Bonus\n",
            "3    David   40   80000  8000.0\n",
            "2  Charlie   35   70000  7000.0\n",
            "1      Bob   30   60000  6000.0\n",
            "0    Alice   25   50000  5000.0\n"
          ]
        }
      ]
    },
    {
      "cell_type": "code",
      "source": [
        "# 8. Filtering\n",
        "# Filter rows where Salary > 60000\n",
        "filtered_df = df[df['Salary'] > 60000]\n",
        "print(\"\\nFilter rows where Salary > 60000:\\n\", filtered_df)"
      ],
      "metadata": {
        "colab": {
          "base_uri": "https://localhost:8080/"
        },
        "id": "zJgy876-A_KF",
        "outputId": "5aee6d5e-5d2b-41ad-a85b-7cd3b3cdfe49"
      },
      "execution_count": 21,
      "outputs": [
        {
          "output_type": "stream",
          "name": "stdout",
          "text": [
            "\n",
            "Filter rows where Salary > 60000:\n",
            "       Name  Age  Salary   Bonus\n",
            "2  Charlie   35   70000  7000.0\n",
            "3    David   40   80000  8000.0\n"
          ]
        }
      ]
    },
    {
      "cell_type": "code",
      "source": [
        "# 9. Statistics\n",
        "# Summary statistics for numerical columns\n",
        "print(\"\\nSummary statistics:\\n\", df.describe())"
      ],
      "metadata": {
        "colab": {
          "base_uri": "https://localhost:8080/"
        },
        "id": "63qSolP3BBG2",
        "outputId": "a3702b97-91d7-402b-ca13-cbf61e97bd74"
      },
      "execution_count": 22,
      "outputs": [
        {
          "output_type": "stream",
          "name": "stdout",
          "text": [
            "\n",
            "Summary statistics:\n",
            "              Age        Salary        Bonus\n",
            "count   4.000000      4.000000     4.000000\n",
            "mean   32.500000  65000.000000  6500.000000\n",
            "std     6.454972  12909.944487  1290.994449\n",
            "min    25.000000  50000.000000  5000.000000\n",
            "25%    28.750000  57500.000000  5750.000000\n",
            "50%    32.500000  65000.000000  6500.000000\n",
            "75%    36.250000  72500.000000  7250.000000\n",
            "max    40.000000  80000.000000  8000.000000\n"
          ]
        }
      ]
    },
    {
      "cell_type": "code",
      "source": [
        "# Value counts for a specific column\n",
        "print(\"\\nValue counts for 'Age' column:\\n\", df['Age'].value_counts())"
      ],
      "metadata": {
        "colab": {
          "base_uri": "https://localhost:8080/"
        },
        "id": "nb4l0OLRBDKk",
        "outputId": "6c873bb8-a0d3-43ef-df97-150b5e91e4f3"
      },
      "execution_count": 23,
      "outputs": [
        {
          "output_type": "stream",
          "name": "stdout",
          "text": [
            "\n",
            "Value counts for 'Age' column:\n",
            " Age\n",
            "25    1\n",
            "30    1\n",
            "35    1\n",
            "40    1\n",
            "Name: count, dtype: int64\n"
          ]
        }
      ]
    },
    {
      "cell_type": "code",
      "source": [
        "# 10. Pivot Tables\n",
        "# Create a pivot table\n",
        "pivot = df.pivot_table(values='Salary', index='Age', columns='Name', aggfunc='mean')\n",
        "print(\"\\nPivot Table:\\n\", pivot)"
      ],
      "metadata": {
        "colab": {
          "base_uri": "https://localhost:8080/"
        },
        "id": "dcnvpQKDBFbH",
        "outputId": "a41b5fae-73e4-4b89-9e11-9e858e00e24b"
      },
      "execution_count": 24,
      "outputs": [
        {
          "output_type": "stream",
          "name": "stdout",
          "text": [
            "\n",
            "Pivot Table:\n",
            " Name    Alice      Bob  Charlie    David\n",
            "Age                                     \n",
            "25    50000.0      NaN      NaN      NaN\n",
            "30        NaN  60000.0      NaN      NaN\n",
            "35        NaN      NaN  70000.0      NaN\n",
            "40        NaN      NaN      NaN  80000.0\n"
          ]
        }
      ]
    },
    {
      "cell_type": "code",
      "source": [
        "# 11. Reshaping\n",
        "# Melting a DataFrame (long format)\n",
        "melted_df = pd.melt(df, id_vars=['Name'], value_vars=['Age', 'Salary'])\n",
        "print(\"\\nMelted DataFrame:\\n\", melted_df)"
      ],
      "metadata": {
        "colab": {
          "base_uri": "https://localhost:8080/"
        },
        "id": "Re6JMw8LBHWF",
        "outputId": "66139270-cdeb-4c87-8726-511f3a2b11a7"
      },
      "execution_count": 25,
      "outputs": [
        {
          "output_type": "stream",
          "name": "stdout",
          "text": [
            "\n",
            "Melted DataFrame:\n",
            "       Name variable  value\n",
            "0    Alice      Age     25\n",
            "1      Bob      Age     30\n",
            "2  Charlie      Age     35\n",
            "3    David      Age     40\n",
            "4    Alice   Salary  50000\n",
            "5      Bob   Salary  60000\n",
            "6  Charlie   Salary  70000\n",
            "7    David   Salary  80000\n"
          ]
        }
      ]
    },
    {
      "cell_type": "code",
      "source": [
        "# Pivot back to wide format\n",
        "pivoted_df = melted_df.pivot(index='Name', columns='variable', values='value')\n",
        "print(\"\\nPivoted DataFrame:\\n\", pivoted_df)"
      ],
      "metadata": {
        "colab": {
          "base_uri": "https://localhost:8080/"
        },
        "id": "R4Ao6VZuBJkj",
        "outputId": "1064ea21-6e7c-43ae-d1f4-1ff56b3d466d"
      },
      "execution_count": 26,
      "outputs": [
        {
          "output_type": "stream",
          "name": "stdout",
          "text": [
            "\n",
            "Pivoted DataFrame:\n",
            " variable  Age  Salary\n",
            "Name                 \n",
            "Alice      25   50000\n",
            "Bob        30   60000\n",
            "Charlie    35   70000\n",
            "David      40   80000\n"
          ]
        }
      ]
    },
    {
      "cell_type": "code",
      "source": [
        "# 12. Handling Duplicates\n",
        "# Adding duplicate data for demonstration\n",
        "df_dup = pd.concat([df, df.loc[[0, 2]]])\n",
        "print(\"\\nDataFrame with duplicate rows:\\n\", df_dup)"
      ],
      "metadata": {
        "colab": {
          "base_uri": "https://localhost:8080/"
        },
        "id": "j9X7q7w2BLoq",
        "outputId": "204f7b3b-9d49-49a1-a503-6d23b44e15ec"
      },
      "execution_count": 27,
      "outputs": [
        {
          "output_type": "stream",
          "name": "stdout",
          "text": [
            "\n",
            "DataFrame with duplicate rows:\n",
            "       Name  Age  Salary   Bonus\n",
            "0    Alice   25   50000  5000.0\n",
            "1      Bob   30   60000  6000.0\n",
            "2  Charlie   35   70000  7000.0\n",
            "3    David   40   80000  8000.0\n",
            "0    Alice   25   50000  5000.0\n",
            "2  Charlie   35   70000  7000.0\n"
          ]
        }
      ]
    },
    {
      "cell_type": "code",
      "source": [
        "# Dropping duplicate rows\n",
        "df_no_dup = df_dup.drop_duplicates()\n",
        "print(\"\\nDataFrame with duplicates removed:\\n\", df_no_dup)"
      ],
      "metadata": {
        "colab": {
          "base_uri": "https://localhost:8080/"
        },
        "id": "pAOKwWTEBP7P",
        "outputId": "70ef4114-969a-48b2-a0e4-575d31bbe1c9"
      },
      "execution_count": 28,
      "outputs": [
        {
          "output_type": "stream",
          "name": "stdout",
          "text": [
            "\n",
            "DataFrame with duplicates removed:\n",
            "       Name  Age  Salary   Bonus\n",
            "0    Alice   25   50000  5000.0\n",
            "1      Bob   30   60000  6000.0\n",
            "2  Charlie   35   70000  7000.0\n",
            "3    David   40   80000  8000.0\n"
          ]
        }
      ]
    },
    {
      "cell_type": "code",
      "source": [
        "# 13. Exporting Data\n",
        "# Export DataFrame to CSV\n",
        "# df.to_csv('exported_file.csv', index=False)\n",
        "\n",
        "print(\"\\nDataFrame can be exported to CSV with `df.to_csv('exported_file.csv')`\")"
      ],
      "metadata": {
        "id": "bpTcXTArDBDW",
        "outputId": "6c917e51-0d94-4f83-fd0f-cdaa130b7516",
        "colab": {
          "base_uri": "https://localhost:8080/"
        }
      },
      "execution_count": 30,
      "outputs": [
        {
          "output_type": "stream",
          "name": "stdout",
          "text": [
            "\n",
            "DataFrame can be exported to CSV with `df.to_csv('exported_file.csv')`\n"
          ]
        }
      ]
    },
    {
      "cell_type": "code",
      "source": [
        "## end of notebook ##"
      ],
      "metadata": {
        "id": "_QamQVpvCnJB"
      },
      "execution_count": 29,
      "outputs": []
    }
  ]
}