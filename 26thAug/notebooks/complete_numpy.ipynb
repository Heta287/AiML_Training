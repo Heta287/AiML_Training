{
  "nbformat": 4,
  "nbformat_minor": 0,
  "metadata": {
    "colab": {
      "provenance": []
    },
    "kernelspec": {
      "name": "python3",
      "display_name": "Python 3"
    },
    "language_info": {
      "name": "python"
    }
  },
  "cells": [
    {
      "cell_type": "markdown",
      "source": [
        "### AI/ML Session 1 - 26th August 2024 (further practice notebook)\n",
        "### By - Heta Rahul Patel\n",
        "\n",
        "---"
      ],
      "metadata": {
        "id": "FFpzGbA9-tvC"
      }
    },
    {
      "cell_type": "markdown",
      "source": [
        "## Numpy Comprehensive Function Examples"
      ],
      "metadata": {
        "id": "txpmleLD_Scx"
      }
    },
    {
      "cell_type": "markdown",
      "source": [
        "### This notebook contains examples of:\n",
        "\n",
        "- Array Creation: Creating arrays using np.array(), np.zeros(), np.ones(), np.arange(), np.random().\n",
        "- Array Properties: Checking array shape, size, and data types.\n",
        "- Array Indexing and Slicing: Accessing array elements and sub-arrays.\n",
        "- Reshaping Arrays: Reshaping and flattening arrays.\n",
        "- Element-wise Operations: Applying mathematical operations element-wise.\n",
        "- Broadcasting: Demonstrating broadcasting of smaller arrays.\n",
        "- Mathematical Functions: Sum, mean, standard deviation, min/max, and more.\n",
        "- Matrix Operations: Dot product, transpose, and matrix inverse.\n",
        "- Random Functions: Creating arrays of random values and random integers.\n",
        "- Sorting and Searching: Sorting arrays and searching for values.\n",
        "- Linear Algebra: Solving linear equations.\n",
        "- Saving and Loading Data: Saving and loading numpy arrays."
      ],
      "metadata": {
        "id": "z0PNGc9n_bxY"
      }
    },
    {
      "cell_type": "markdown",
      "source": [
        "---"
      ],
      "metadata": {
        "id": "EfSdoYx9_05u"
      }
    },
    {
      "cell_type": "code",
      "source": [
        "#import\n",
        "import numpy as np"
      ],
      "metadata": {
        "id": "SavfnOgw_U9a"
      },
      "execution_count": 70,
      "outputs": []
    },
    {
      "cell_type": "code",
      "source": [
        "# 1. Array Creation\n",
        "# Create a 1D array from a list\n",
        "arr_1d = np.array([1, 2, 3, 4, 5])\n",
        "print(\"1D Array:\\n\", arr_1d)"
      ],
      "metadata": {
        "colab": {
          "base_uri": "https://localhost:8080/"
        },
        "id": "4zdxdTQiAA6d",
        "outputId": "a24cab7c-b199-4802-9f5f-d2ee2a6f9997"
      },
      "execution_count": 71,
      "outputs": [
        {
          "output_type": "stream",
          "name": "stdout",
          "text": [
            "1D Array:\n",
            " [1 2 3 4 5]\n"
          ]
        }
      ]
    },
    {
      "cell_type": "code",
      "source": [
        "# Create a 2D array (matrix)\n",
        "arr_2d = np.array([[1, 2, 3], [4, 5, 6]])\n",
        "print(\"\\n2D Array:\\n\", arr_2d)"
      ],
      "metadata": {
        "colab": {
          "base_uri": "https://localhost:8080/"
        },
        "id": "_IoqPSYgAEKk",
        "outputId": "4191ec05-aa9d-4d29-83f3-0aba3202afac"
      },
      "execution_count": 72,
      "outputs": [
        {
          "output_type": "stream",
          "name": "stdout",
          "text": [
            "\n",
            "2D Array:\n",
            " [[1 2 3]\n",
            " [4 5 6]]\n"
          ]
        }
      ]
    },
    {
      "cell_type": "code",
      "source": [
        "# Create an array of zeros\n",
        "arr_zeros = np.zeros((2, 3))\n",
        "print(\"\\nArray of Zeros:\\n\", arr_zeros)"
      ],
      "metadata": {
        "colab": {
          "base_uri": "https://localhost:8080/"
        },
        "id": "e2dGlEdkAGhb",
        "outputId": "fe4c9e8b-8b0d-4bc4-a5bc-2598ed8fa35f"
      },
      "execution_count": 73,
      "outputs": [
        {
          "output_type": "stream",
          "name": "stdout",
          "text": [
            "\n",
            "Array of Zeros:\n",
            " [[0. 0. 0.]\n",
            " [0. 0. 0.]]\n"
          ]
        }
      ]
    },
    {
      "cell_type": "code",
      "source": [
        "# Create an array of ones\n",
        "arr_ones = np.ones((3, 3))\n",
        "print(\"\\nArray of Ones:\\n\", arr_ones)"
      ],
      "metadata": {
        "colab": {
          "base_uri": "https://localhost:8080/"
        },
        "id": "tLiXXhuFDsQc",
        "outputId": "1ee20919-d6b6-4ef0-e930-23102167bf63"
      },
      "execution_count": 74,
      "outputs": [
        {
          "output_type": "stream",
          "name": "stdout",
          "text": [
            "\n",
            "Array of Ones:\n",
            " [[1. 1. 1.]\n",
            " [1. 1. 1.]\n",
            " [1. 1. 1.]]\n"
          ]
        }
      ]
    },
    {
      "cell_type": "code",
      "source": [
        "# Create an array with a range of values\n",
        "arr_range = np.arange(0, 10, 2)\n",
        "print(\"\\nArray with Range (0 to 10, step 2):\\n\", arr_range)"
      ],
      "metadata": {
        "colab": {
          "base_uri": "https://localhost:8080/"
        },
        "id": "hynzLZGzDsZz",
        "outputId": "b7216d81-0ea8-433d-fab9-cdbfe70946cf"
      },
      "execution_count": 75,
      "outputs": [
        {
          "output_type": "stream",
          "name": "stdout",
          "text": [
            "\n",
            "Array with Range (0 to 10, step 2):\n",
            " [0 2 4 6 8]\n"
          ]
        }
      ]
    },
    {
      "cell_type": "code",
      "source": [
        "# Create an array of random values between 0 and 1\n",
        "arr_random = np.random.random((3, 3))\n",
        "print(\"\\nRandom Array (3x3):\\n\", arr_random)"
      ],
      "metadata": {
        "colab": {
          "base_uri": "https://localhost:8080/"
        },
        "id": "wtajVF7SDsdR",
        "outputId": "96ae4cfa-4dd7-4454-d069-a84fc23b8964"
      },
      "execution_count": 76,
      "outputs": [
        {
          "output_type": "stream",
          "name": "stdout",
          "text": [
            "\n",
            "Random Array (3x3):\n",
            " [[0.55131655 0.15153227 0.58198804]\n",
            " [0.67725355 0.99269248 0.10279785]\n",
            " [0.59294283 0.8367847  0.78595879]]\n"
          ]
        }
      ]
    },
    {
      "cell_type": "code",
      "source": [
        "# 2. Array Properties\n",
        "# Shape of the array\n",
        "print(\"\\nShape of arr_2d:\", arr_2d.shape)"
      ],
      "metadata": {
        "colab": {
          "base_uri": "https://localhost:8080/"
        },
        "id": "VL3NSfqODsfL",
        "outputId": "85578bdf-27f6-4436-cd53-d98cb47e8111"
      },
      "execution_count": 77,
      "outputs": [
        {
          "output_type": "stream",
          "name": "stdout",
          "text": [
            "\n",
            "Shape of arr_2d: (2, 3)\n"
          ]
        }
      ]
    },
    {
      "cell_type": "code",
      "source": [
        "# Size of the array (number of elements)\n",
        "print(\"Size of arr_2d:\", arr_2d.size)"
      ],
      "metadata": {
        "colab": {
          "base_uri": "https://localhost:8080/"
        },
        "id": "Sok-eK-ZD4Qu",
        "outputId": "4782e78f-4e05-41ba-d3f7-77189fb73a42"
      },
      "execution_count": 78,
      "outputs": [
        {
          "output_type": "stream",
          "name": "stdout",
          "text": [
            "Size of arr_2d: 6\n"
          ]
        }
      ]
    },
    {
      "cell_type": "code",
      "source": [
        "# Data type of the array\n",
        "print(\"Data type of arr_2d:\", arr_2d.dtype)"
      ],
      "metadata": {
        "colab": {
          "base_uri": "https://localhost:8080/"
        },
        "id": "v2Q9jagJD4TR",
        "outputId": "1a5de489-52f3-4140-e71c-dd3132989f49"
      },
      "execution_count": 79,
      "outputs": [
        {
          "output_type": "stream",
          "name": "stdout",
          "text": [
            "Data type of arr_2d: int64\n"
          ]
        }
      ]
    },
    {
      "cell_type": "code",
      "source": [
        "# 3. Array Indexing and Slicing\n",
        "# Indexing in 1D array\n",
        "print(\"\\nElement at index 2 of arr_1d:\", arr_1d[2])"
      ],
      "metadata": {
        "colab": {
          "base_uri": "https://localhost:8080/"
        },
        "id": "ZuDoKD6TD4V-",
        "outputId": "c7764ae1-c9b7-4a26-dff2-c53c112b900a"
      },
      "execution_count": 80,
      "outputs": [
        {
          "output_type": "stream",
          "name": "stdout",
          "text": [
            "\n",
            "Element at index 2 of arr_1d: 3\n"
          ]
        }
      ]
    },
    {
      "cell_type": "code",
      "source": [
        "# Indexing in 2D array\n",
        "print(\"Element at row 1, column 2 of arr_2d:\", arr_2d[1, 2])"
      ],
      "metadata": {
        "colab": {
          "base_uri": "https://localhost:8080/"
        },
        "id": "oA-0ED_oEEbk",
        "outputId": "3f2a1c91-a829-42db-bb00-c0c9f4272412"
      },
      "execution_count": 81,
      "outputs": [
        {
          "output_type": "stream",
          "name": "stdout",
          "text": [
            "Element at row 1, column 2 of arr_2d: 6\n"
          ]
        }
      ]
    },
    {
      "cell_type": "code",
      "source": [
        "# Slicing 1D array\n",
        "print(\"\\nSlicing arr_1d (from index 1 to 3):\\n\", arr_1d[1:4])"
      ],
      "metadata": {
        "colab": {
          "base_uri": "https://localhost:8080/"
        },
        "id": "clmfYwuGEEeM",
        "outputId": "46c0265b-e18e-4a5f-a556-bff76d5c0787"
      },
      "execution_count": 82,
      "outputs": [
        {
          "output_type": "stream",
          "name": "stdout",
          "text": [
            "\n",
            "Slicing arr_1d (from index 1 to 3):\n",
            " [2 3 4]\n"
          ]
        }
      ]
    },
    {
      "cell_type": "code",
      "source": [
        "# Slicing 2D array\n",
        "print(\"Slicing arr_2d (first two rows and first two columns):\\n\", arr_2d[:2, :2])"
      ],
      "metadata": {
        "colab": {
          "base_uri": "https://localhost:8080/"
        },
        "id": "W1N4pOjkEIGu",
        "outputId": "449a56d7-56b5-499e-d826-034b6288675f"
      },
      "execution_count": 83,
      "outputs": [
        {
          "output_type": "stream",
          "name": "stdout",
          "text": [
            "Slicing arr_2d (first two rows and first two columns):\n",
            " [[1 2]\n",
            " [4 5]]\n"
          ]
        }
      ]
    },
    {
      "cell_type": "code",
      "source": [
        "# 4. Reshaping Arrays\n",
        "# Reshape a 1D array to 2D array\n",
        "arr_reshaped = np.reshape(arr_1d, (5, 1))\n",
        "print(\"\\nReshaped 1D Array to 2D (5x1):\\n\", arr_reshaped)\n"
      ],
      "metadata": {
        "colab": {
          "base_uri": "https://localhost:8080/"
        },
        "id": "MpJ8R1jyEIKP",
        "outputId": "224fc411-d421-4b52-f4f2-2fbd433758a7"
      },
      "execution_count": 84,
      "outputs": [
        {
          "output_type": "stream",
          "name": "stdout",
          "text": [
            "\n",
            "Reshaped 1D Array to 2D (5x1):\n",
            " [[1]\n",
            " [2]\n",
            " [3]\n",
            " [4]\n",
            " [5]]\n"
          ]
        }
      ]
    },
    {
      "cell_type": "code",
      "source": [
        "# Flatten a 2D array to 1D array\n",
        "arr_flattened = arr_2d.flatten()\n",
        "print(\"\\nFlattened 2D Array to 1D:\\n\", arr_flattened)"
      ],
      "metadata": {
        "colab": {
          "base_uri": "https://localhost:8080/"
        },
        "id": "aWQVAlD7EIMe",
        "outputId": "1884e98e-69b5-4fef-8ebe-39f7d76a8f0a"
      },
      "execution_count": 85,
      "outputs": [
        {
          "output_type": "stream",
          "name": "stdout",
          "text": [
            "\n",
            "Flattened 2D Array to 1D:\n",
            " [1 2 3 4 5 6]\n"
          ]
        }
      ]
    },
    {
      "cell_type": "code",
      "source": [
        "# 5. Element-wise Operations\n",
        "# Add scalar to an array\n",
        "arr_add = arr_1d + 5\n",
        "print(\"\\nAdd 5 to each element of arr_1d:\\n\", arr_add)"
      ],
      "metadata": {
        "colab": {
          "base_uri": "https://localhost:8080/"
        },
        "id": "-PmryuNoEPjC",
        "outputId": "d08e408d-d356-4570-b45c-4e04fb880a17"
      },
      "execution_count": 86,
      "outputs": [
        {
          "output_type": "stream",
          "name": "stdout",
          "text": [
            "\n",
            "Add 5 to each element of arr_1d:\n",
            " [ 6  7  8  9 10]\n"
          ]
        }
      ]
    },
    {
      "cell_type": "code",
      "source": [
        "# Multiply scalar with array\n",
        "arr_multiply = arr_1d * 2\n",
        "print(\"Multiply arr_1d by 2:\\n\", arr_multiply)"
      ],
      "metadata": {
        "colab": {
          "base_uri": "https://localhost:8080/"
        },
        "id": "FfWAeLeMEPla",
        "outputId": "c823c6d2-d1f4-4b71-b4e0-1b5d83350834"
      },
      "execution_count": 87,
      "outputs": [
        {
          "output_type": "stream",
          "name": "stdout",
          "text": [
            "Multiply arr_1d by 2:\n",
            " [ 2  4  6  8 10]\n"
          ]
        }
      ]
    },
    {
      "cell_type": "code",
      "source": [
        "# Element-wise addition of two arrays\n",
        "arr_sum = arr_1d + np.array([5, 4, 3, 2, 1])\n",
        "print(\"\\nElement-wise addition of two arrays:\\n\", arr_sum)"
      ],
      "metadata": {
        "colab": {
          "base_uri": "https://localhost:8080/"
        },
        "id": "Q6F3kaNIEVOo",
        "outputId": "930e13cc-5dfc-48e2-e5de-5f4caa84c2a6"
      },
      "execution_count": 88,
      "outputs": [
        {
          "output_type": "stream",
          "name": "stdout",
          "text": [
            "\n",
            "Element-wise addition of two arrays:\n",
            " [6 6 6 6 6]\n"
          ]
        }
      ]
    },
    {
      "cell_type": "code",
      "source": [
        "# Element-wise square root\n",
        "arr_sqrt = np.sqrt(arr_1d)\n",
        "print(\"Element-wise square root of arr_1d:\\n\", arr_sqrt)"
      ],
      "metadata": {
        "colab": {
          "base_uri": "https://localhost:8080/"
        },
        "id": "kG6aTQ8zEVRY",
        "outputId": "9696a0b8-d0b8-4617-8a5d-5f80a7196b7a"
      },
      "execution_count": 89,
      "outputs": [
        {
          "output_type": "stream",
          "name": "stdout",
          "text": [
            "Element-wise square root of arr_1d:\n",
            " [1.         1.41421356 1.73205081 2.         2.23606798]\n"
          ]
        }
      ]
    },
    {
      "cell_type": "code",
      "source": [
        "# 6. Broadcasting\n",
        "# Broadcasting example: adding a scalar to a 2D array\n",
        "arr_broadcast = arr_2d + 10\n",
        "print(\"\\nBroadcasting Example (adding 10 to arr_2d):\\n\", arr_broadcast)"
      ],
      "metadata": {
        "colab": {
          "base_uri": "https://localhost:8080/"
        },
        "id": "QT7rVwS2EVTy",
        "outputId": "f278bff0-e059-4bb9-fd7d-0fc9af2c27cb"
      },
      "execution_count": 90,
      "outputs": [
        {
          "output_type": "stream",
          "name": "stdout",
          "text": [
            "\n",
            "Broadcasting Example (adding 10 to arr_2d):\n",
            " [[11 12 13]\n",
            " [14 15 16]]\n"
          ]
        }
      ]
    },
    {
      "cell_type": "code",
      "source": [
        "# Broadcasting with different shapes\n",
        "arr_broadcast_diff = arr_2d + np.array([1, 2, 3])\n",
        "print(\"\\nBroadcasting Example with different shapes:\\n\", arr_broadcast_diff)"
      ],
      "metadata": {
        "colab": {
          "base_uri": "https://localhost:8080/"
        },
        "id": "SP4HtwIXEaOX",
        "outputId": "1a07789d-03d0-4449-e374-1568d8edf45d"
      },
      "execution_count": 91,
      "outputs": [
        {
          "output_type": "stream",
          "name": "stdout",
          "text": [
            "\n",
            "Broadcasting Example with different shapes:\n",
            " [[2 4 6]\n",
            " [5 7 9]]\n"
          ]
        }
      ]
    },
    {
      "cell_type": "code",
      "source": [
        "# 7. Mathematical Functions\n",
        "# Sum of all elements\n",
        "sum_all = np.sum(arr_2d)\n",
        "print(\"\\nSum of all elements in arr_2d:\", sum_all)"
      ],
      "metadata": {
        "colab": {
          "base_uri": "https://localhost:8080/"
        },
        "id": "qCO9zmvAEaQu",
        "outputId": "d363cb19-3f13-4394-b4eb-10f2b1f69303"
      },
      "execution_count": 92,
      "outputs": [
        {
          "output_type": "stream",
          "name": "stdout",
          "text": [
            "\n",
            "Sum of all elements in arr_2d: 21\n"
          ]
        }
      ]
    },
    {
      "cell_type": "code",
      "source": [
        "# Sum along a specific axis\n",
        "sum_axis_0 = np.sum(arr_2d, axis=0)  # Column-wise sum\n",
        "print(\"Sum along axis 0 (column-wise sum):\\n\", sum_axis_0)"
      ],
      "metadata": {
        "colab": {
          "base_uri": "https://localhost:8080/"
        },
        "id": "fpqprKuhEeJJ",
        "outputId": "25fd85d0-a206-4b5f-9e77-faac54f63680"
      },
      "execution_count": 93,
      "outputs": [
        {
          "output_type": "stream",
          "name": "stdout",
          "text": [
            "Sum along axis 0 (column-wise sum):\n",
            " [5 7 9]\n"
          ]
        }
      ]
    },
    {
      "cell_type": "code",
      "source": [
        "sum_axis_1 = np.sum(arr_2d, axis=1)  # Row-wise sum\n",
        "print(\"Sum along axis 1 (row-wise sum):\\n\", sum_axis_1)"
      ],
      "metadata": {
        "colab": {
          "base_uri": "https://localhost:8080/"
        },
        "id": "scPD0bxYEeMA",
        "outputId": "37368f0e-5c65-41a3-fdb3-b83a7d0d6ef8"
      },
      "execution_count": 94,
      "outputs": [
        {
          "output_type": "stream",
          "name": "stdout",
          "text": [
            "Sum along axis 1 (row-wise sum):\n",
            " [ 6 15]\n"
          ]
        }
      ]
    },
    {
      "cell_type": "code",
      "source": [
        "# Mean of the array\n",
        "mean_arr = np.mean(arr_2d)\n",
        "print(\"\\nMean of arr_2d:\", mean_arr)"
      ],
      "metadata": {
        "colab": {
          "base_uri": "https://localhost:8080/"
        },
        "id": "t0VQZdanEeOw",
        "outputId": "8982bf46-1847-471c-95ed-6729edc26abf"
      },
      "execution_count": 95,
      "outputs": [
        {
          "output_type": "stream",
          "name": "stdout",
          "text": [
            "\n",
            "Mean of arr_2d: 3.5\n"
          ]
        }
      ]
    },
    {
      "cell_type": "code",
      "source": [
        "# Standard deviation\n",
        "std_arr = np.std(arr_2d)\n",
        "print(\"Standard deviation of arr_2d:\", std_arr)"
      ],
      "metadata": {
        "colab": {
          "base_uri": "https://localhost:8080/"
        },
        "id": "rFDxTUU-Elu0",
        "outputId": "2f80ca57-00eb-4b34-bf86-eba751042183"
      },
      "execution_count": 96,
      "outputs": [
        {
          "output_type": "stream",
          "name": "stdout",
          "text": [
            "Standard deviation of arr_2d: 1.707825127659933\n"
          ]
        }
      ]
    },
    {
      "cell_type": "code",
      "source": [
        "# Maximum and minimum values\n",
        "max_value = np.max(arr_2d)\n",
        "min_value = np.min(arr_2d)\n",
        "print(\"\\nMax value in arr_2d:\", max_value)\n",
        "print(\"Min value in arr_2d:\", min_value)"
      ],
      "metadata": {
        "colab": {
          "base_uri": "https://localhost:8080/"
        },
        "id": "58KUt3srElxb",
        "outputId": "4307f3c7-8663-491b-f2c7-9521a90c1484"
      },
      "execution_count": 97,
      "outputs": [
        {
          "output_type": "stream",
          "name": "stdout",
          "text": [
            "\n",
            "Max value in arr_2d: 6\n",
            "Min value in arr_2d: 1\n"
          ]
        }
      ]
    },
    {
      "cell_type": "code",
      "source": [
        "# 8. Matrix Operations\n",
        "# Dot product of two matrices\n",
        "arr_a = np.array([[1, 2], [3, 4]])\n",
        "arr_b = np.array([[5, 6], [7, 8]])\n",
        "dot_product = np.dot(arr_a, arr_b)\n",
        "print(\"\\nDot Product of arr_a and arr_b:\\n\", dot_product)"
      ],
      "metadata": {
        "colab": {
          "base_uri": "https://localhost:8080/"
        },
        "id": "_E7EbI9dEl0W",
        "outputId": "648d15ca-e8cd-40c9-e65e-c967ad556a32"
      },
      "execution_count": 98,
      "outputs": [
        {
          "output_type": "stream",
          "name": "stdout",
          "text": [
            "\n",
            "Dot Product of arr_a and arr_b:\n",
            " [[19 22]\n",
            " [43 50]]\n"
          ]
        }
      ]
    },
    {
      "cell_type": "code",
      "source": [
        "# Transpose of a matrix\n",
        "arr_transpose = np.transpose(arr_a)\n",
        "print(\"Transpose of arr_a:\\n\", arr_transpose)"
      ],
      "metadata": {
        "colab": {
          "base_uri": "https://localhost:8080/"
        },
        "id": "USjiJaELEl63",
        "outputId": "ae86b43c-1a79-45b5-a130-bb739c871491"
      },
      "execution_count": 99,
      "outputs": [
        {
          "output_type": "stream",
          "name": "stdout",
          "text": [
            "Transpose of arr_a:\n",
            " [[1 3]\n",
            " [2 4]]\n"
          ]
        }
      ]
    },
    {
      "cell_type": "code",
      "source": [
        "# Inverse of a matrix (using np.linalg.inv)\n",
        "arr_square = np.array([[1, 2], [3, 4]])\n",
        "arr_inverse = np.linalg.inv(arr_square)\n",
        "print(\"\\nInverse of arr_square:\\n\", arr_inverse)"
      ],
      "metadata": {
        "colab": {
          "base_uri": "https://localhost:8080/"
        },
        "id": "44w-Rsq9EqtE",
        "outputId": "374e2ce5-aae0-4079-f0d6-f1d034078227"
      },
      "execution_count": 100,
      "outputs": [
        {
          "output_type": "stream",
          "name": "stdout",
          "text": [
            "\n",
            "Inverse of arr_square:\n",
            " [[-2.   1. ]\n",
            " [ 1.5 -0.5]]\n"
          ]
        }
      ]
    },
    {
      "cell_type": "code",
      "source": [
        "# 9. Random Functions\n",
        "# Random integers within a range\n",
        "arr_randint = np.random.randint(0, 10, size=(3, 3))\n",
        "print(\"\\nRandom Integer Array (3x3) between 0 and 10:\\n\", arr_randint)"
      ],
      "metadata": {
        "colab": {
          "base_uri": "https://localhost:8080/"
        },
        "id": "IG8_oHgNEqve",
        "outputId": "fd7d0a36-3afa-4a1c-bb70-334ca41a4e16"
      },
      "execution_count": 101,
      "outputs": [
        {
          "output_type": "stream",
          "name": "stdout",
          "text": [
            "\n",
            "Random Integer Array (3x3) between 0 and 10:\n",
            " [[9 1 9]\n",
            " [3 3 1]\n",
            " [6 8 4]]\n"
          ]
        }
      ]
    },
    {
      "cell_type": "code",
      "source": [
        "# Random values from a normal distribution\n",
        "arr_normal = np.random.randn(3, 3)\n",
        "print(\"\\nRandom Array from Normal Distribution (3x3):\\n\", arr_normal)"
      ],
      "metadata": {
        "colab": {
          "base_uri": "https://localhost:8080/"
        },
        "id": "guQAC-EqEmB2",
        "outputId": "060e1cda-99d8-4c8e-8483-13ce2f633096"
      },
      "execution_count": 102,
      "outputs": [
        {
          "output_type": "stream",
          "name": "stdout",
          "text": [
            "\n",
            "Random Array from Normal Distribution (3x3):\n",
            " [[-1.6517186  -0.6909901  -0.77311834]\n",
            " [-2.29520706 -1.08550515 -0.51239481]\n",
            " [ 0.14515677 -0.01360191 -0.93028767]]\n"
          ]
        }
      ]
    },
    {
      "cell_type": "code",
      "source": [
        "# 10. Sorting and Searching\n",
        "# Sorting an array\n",
        "arr_unsorted = np.array([5, 2, 9, 1, 5, 6])\n",
        "arr_sorted = np.sort(arr_unsorted)\n",
        "print(\"\\nSorted Array:\\n\", arr_sorted)"
      ],
      "metadata": {
        "colab": {
          "base_uri": "https://localhost:8080/"
        },
        "id": "_9MUQn57Evt8",
        "outputId": "659524c9-a99b-4ad3-a37b-89a2286f6b8c"
      },
      "execution_count": 103,
      "outputs": [
        {
          "output_type": "stream",
          "name": "stdout",
          "text": [
            "\n",
            "Sorted Array:\n",
            " [1 2 5 5 6 9]\n"
          ]
        }
      ]
    },
    {
      "cell_type": "code",
      "source": [
        "# Find indices of the sorted array\n",
        "arr_sorted_indices = np.argsort(arr_unsorted)\n",
        "print(\"Indices of the sorted array:\\n\", arr_sorted_indices)"
      ],
      "metadata": {
        "colab": {
          "base_uri": "https://localhost:8080/"
        },
        "id": "nkUfuwH6Evw_",
        "outputId": "b44e83ec-11a0-41b7-d1e0-210cec02be71"
      },
      "execution_count": 104,
      "outputs": [
        {
          "output_type": "stream",
          "name": "stdout",
          "text": [
            "Indices of the sorted array:\n",
            " [3 1 0 4 5 2]\n"
          ]
        }
      ]
    },
    {
      "cell_type": "code",
      "source": [
        "# Searching for elements\n",
        "search_index = np.where(arr_1d == 3)\n",
        "print(\"\\nIndex where arr_1d == 3:\", search_index)"
      ],
      "metadata": {
        "colab": {
          "base_uri": "https://localhost:8080/"
        },
        "id": "0rWBY2OZEvzZ",
        "outputId": "2c3c2c08-58a4-4d7a-ef4c-4989f2994583"
      },
      "execution_count": 105,
      "outputs": [
        {
          "output_type": "stream",
          "name": "stdout",
          "text": [
            "\n",
            "Index where arr_1d == 3: (array([2]),)\n"
          ]
        }
      ]
    },
    {
      "cell_type": "code",
      "source": [
        "# Check conditions in an array\n",
        "arr_conditional = np.where(arr_1d > 3, 'Greater', 'Lesser or Equal')\n",
        "print(\"Conditional Check in arr_1d:\\n\", arr_conditional)"
      ],
      "metadata": {
        "colab": {
          "base_uri": "https://localhost:8080/"
        },
        "id": "CCLkpdmaEv1_",
        "outputId": "96a0fd8c-d921-4cda-83da-2a01510ffd2c"
      },
      "execution_count": 106,
      "outputs": [
        {
          "output_type": "stream",
          "name": "stdout",
          "text": [
            "Conditional Check in arr_1d:\n",
            " ['Lesser or Equal' 'Lesser or Equal' 'Lesser or Equal' 'Greater' 'Greater']\n"
          ]
        }
      ]
    },
    {
      "cell_type": "code",
      "source": [
        "# 11. Linear Algebra\n",
        "# Solving a system of linear equations\n",
        "coefficients = np.array([[3, 1], [1, 2]])\n",
        "constants = np.array([9, 8])\n",
        "solution = np.linalg.solve(coefficients, constants)\n",
        "print(\"\\nSolution of linear equations:\\n\", solution)"
      ],
      "metadata": {
        "colab": {
          "base_uri": "https://localhost:8080/"
        },
        "id": "1ge7SGQFE25A",
        "outputId": "3c44fbda-fa55-4fd7-9b9f-0b2034ce4771"
      },
      "execution_count": 107,
      "outputs": [
        {
          "output_type": "stream",
          "name": "stdout",
          "text": [
            "\n",
            "Solution of linear equations:\n",
            " [2. 3.]\n"
          ]
        }
      ]
    },
    {
      "cell_type": "code",
      "source": [
        "# 12. Saving and Loading Data\n",
        "# Save array to a file\n",
        "#np.save('array_file.npy', arr_1d)\n",
        "print(\"\\nArray saved to 'array_file.npy'\")"
      ],
      "metadata": {
        "colab": {
          "base_uri": "https://localhost:8080/"
        },
        "id": "3QY8SKK4Ev4B",
        "outputId": "5f947eda-c946-4a9b-9887-b79a35613b6d"
      },
      "execution_count": 108,
      "outputs": [
        {
          "output_type": "stream",
          "name": "stdout",
          "text": [
            "\n",
            "Array saved to 'array_file.npy'\n"
          ]
        }
      ]
    },
    {
      "cell_type": "code",
      "source": [
        "# Load array from file\n",
        "loaded_array = np.load('array_file.npy')\n",
        "print(\"Loaded Array from file:\\n\", loaded_array)"
      ],
      "metadata": {
        "id": "IlwXUhl5FP5Q"
      },
      "execution_count": null,
      "outputs": []
    },
    {
      "cell_type": "code",
      "source": [
        "## end of notebook ##"
      ],
      "metadata": {
        "id": "_QamQVpvCnJB"
      },
      "execution_count": null,
      "outputs": []
    }
  ]
}